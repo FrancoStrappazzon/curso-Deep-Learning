{
 "cells": [
  {
   "cell_type": "markdown",
   "metadata": {},
   "source": [
    "# Perceptrón Multicapa: Caso práctico II"
   ]
  },
  {
   "cell_type": "markdown",
   "metadata": {},
   "source": [
    "## Dataset"
   ]
  },
  {
   "cell_type": "markdown",
   "metadata": {},
   "source": [
    "La base de datos del MNIST (base de datos modificada del Instituto Nacional de Normas y Tecnología) es una gran base de datos de dígitos manuscritos que se utiliza comúnmente para la capacitación de diversos sistemas de procesamiento de imágenes. La base de datos también se utiliza ampliamente para la capacitación y el ensayo en el campo del aprendizaje automático. Se creó \"remezclando\" las muestras de los conjuntos de datos originales del NIST. Los creadores consideraron que, dado que el conjunto de datos de capacitación del NIST fue tomado de los empleados de la Oficina del Censo de los Estados Unidos, mientras que el conjunto de datos de prueba fue tomado de los estudiantes de secundaria de los Estados Unidos, no era muy adecuado para los experimentos de aprendizaje automático. Además, las imágenes en blanco y negro del NIST fueron normalizadas para que encajaran en un cuadro delimitador de 28x28 píxeles, lo que introdujo niveles de escala de grises.\n",
    "\n",
    "La base de datos del MNIST contiene 60.000 imágenes de entrenamiento y 10.000 imágenes de prueba. La mitad del conjunto de entrenamiento y la otra mitad del conjunto de pruebas se tomaron del conjunto de datos de entrenamiento del NIST, mientras que la otra mitad del conjunto de entrenamiento y la otra mitad del conjunto de pruebas se tomaron del conjunto de datos de pruebas del NIST.Los creadores originales de la base de datos mantienen una lista de algunos de los métodos probados en ella. En su papel original, utilizan una máquina de soporte vectorial para obtener una tasa de error del 0,8%. En 2017 se ha publicado un conjunto de datos ampliado similar al MNIST llamado EMNIST, que contiene 240.000 imágenes de entrenamiento y 40.000 imágenes de prueba de dígitos y caracteres escritos a mano."
   ]
  },
  {
   "cell_type": "markdown",
   "metadata": {},
   "source": [
    "## Enunciado"
   ]
  },
  {
   "cell_type": "markdown",
   "metadata": {},
   "source": [
    "En este caso de uso práctico vamos a recuperar el ejercicio de clasificación de imágenes que realizamos en el apartado anterior para intentar mejorarlo aplicando un Perceptrón Multicapa."
   ]
  },
  {
   "cell_type": "markdown",
   "metadata": {},
   "source": [
    "## 1. Lectura del conjunto de datos"
   ]
  },
  {
   "cell_type": "code",
   "execution_count": 10,
   "metadata": {},
   "outputs": [
    {
     "name": "stderr",
     "output_type": "stream",
     "text": [
      "E:\\FRANCO\\Anaconda\\Lib\\site-packages\\sklearn\\datasets\\_openml.py:968: FutureWarning: The default value of `parser` will change from `'liac-arff'` to `'auto'` in 1.4. You can set `parser='auto'` to silence this warning. Therefore, an `ImportError` will be raised from 1.4 if the dataset is dense and pandas is not installed. Note that the pandas parser may return different data types. See the Notes Section in fetch_openml's API doc for details.\n",
      "  warn(\n"
     ]
    }
   ],
   "source": [
    "# Importamos el conjunto de datos\n",
    "from sklearn.datasets import fetch_openml\n",
    "\n",
    "mnist = fetch_openml('mnist_784', as_frame=False)"
   ]
  },
  {
   "cell_type": "code",
   "execution_count": 11,
   "metadata": {},
   "outputs": [
    {
     "data": {
      "text/html": [
       "<div>\n",
       "<style scoped>\n",
       "    .dataframe tbody tr th:only-of-type {\n",
       "        vertical-align: middle;\n",
       "    }\n",
       "\n",
       "    .dataframe tbody tr th {\n",
       "        vertical-align: top;\n",
       "    }\n",
       "\n",
       "    .dataframe thead th {\n",
       "        text-align: right;\n",
       "    }\n",
       "</style>\n",
       "<table border=\"1\" class=\"dataframe\">\n",
       "  <thead>\n",
       "    <tr style=\"text-align: right;\">\n",
       "      <th></th>\n",
       "      <th>0</th>\n",
       "      <th>1</th>\n",
       "      <th>2</th>\n",
       "      <th>3</th>\n",
       "      <th>4</th>\n",
       "      <th>5</th>\n",
       "      <th>6</th>\n",
       "      <th>7</th>\n",
       "      <th>8</th>\n",
       "      <th>9</th>\n",
       "      <th>...</th>\n",
       "      <th>774</th>\n",
       "      <th>775</th>\n",
       "      <th>776</th>\n",
       "      <th>777</th>\n",
       "      <th>778</th>\n",
       "      <th>779</th>\n",
       "      <th>780</th>\n",
       "      <th>781</th>\n",
       "      <th>782</th>\n",
       "      <th>783</th>\n",
       "    </tr>\n",
       "  </thead>\n",
       "  <tbody>\n",
       "    <tr>\n",
       "      <th>0</th>\n",
       "      <td>0.0</td>\n",
       "      <td>0.0</td>\n",
       "      <td>0.0</td>\n",
       "      <td>0.0</td>\n",
       "      <td>0.0</td>\n",
       "      <td>0.0</td>\n",
       "      <td>0.0</td>\n",
       "      <td>0.0</td>\n",
       "      <td>0.0</td>\n",
       "      <td>0.0</td>\n",
       "      <td>...</td>\n",
       "      <td>0.0</td>\n",
       "      <td>0.0</td>\n",
       "      <td>0.0</td>\n",
       "      <td>0.0</td>\n",
       "      <td>0.0</td>\n",
       "      <td>0.0</td>\n",
       "      <td>0.0</td>\n",
       "      <td>0.0</td>\n",
       "      <td>0.0</td>\n",
       "      <td>0.0</td>\n",
       "    </tr>\n",
       "    <tr>\n",
       "      <th>1</th>\n",
       "      <td>0.0</td>\n",
       "      <td>0.0</td>\n",
       "      <td>0.0</td>\n",
       "      <td>0.0</td>\n",
       "      <td>0.0</td>\n",
       "      <td>0.0</td>\n",
       "      <td>0.0</td>\n",
       "      <td>0.0</td>\n",
       "      <td>0.0</td>\n",
       "      <td>0.0</td>\n",
       "      <td>...</td>\n",
       "      <td>0.0</td>\n",
       "      <td>0.0</td>\n",
       "      <td>0.0</td>\n",
       "      <td>0.0</td>\n",
       "      <td>0.0</td>\n",
       "      <td>0.0</td>\n",
       "      <td>0.0</td>\n",
       "      <td>0.0</td>\n",
       "      <td>0.0</td>\n",
       "      <td>0.0</td>\n",
       "    </tr>\n",
       "    <tr>\n",
       "      <th>2</th>\n",
       "      <td>0.0</td>\n",
       "      <td>0.0</td>\n",
       "      <td>0.0</td>\n",
       "      <td>0.0</td>\n",
       "      <td>0.0</td>\n",
       "      <td>0.0</td>\n",
       "      <td>0.0</td>\n",
       "      <td>0.0</td>\n",
       "      <td>0.0</td>\n",
       "      <td>0.0</td>\n",
       "      <td>...</td>\n",
       "      <td>0.0</td>\n",
       "      <td>0.0</td>\n",
       "      <td>0.0</td>\n",
       "      <td>0.0</td>\n",
       "      <td>0.0</td>\n",
       "      <td>0.0</td>\n",
       "      <td>0.0</td>\n",
       "      <td>0.0</td>\n",
       "      <td>0.0</td>\n",
       "      <td>0.0</td>\n",
       "    </tr>\n",
       "    <tr>\n",
       "      <th>3</th>\n",
       "      <td>0.0</td>\n",
       "      <td>0.0</td>\n",
       "      <td>0.0</td>\n",
       "      <td>0.0</td>\n",
       "      <td>0.0</td>\n",
       "      <td>0.0</td>\n",
       "      <td>0.0</td>\n",
       "      <td>0.0</td>\n",
       "      <td>0.0</td>\n",
       "      <td>0.0</td>\n",
       "      <td>...</td>\n",
       "      <td>0.0</td>\n",
       "      <td>0.0</td>\n",
       "      <td>0.0</td>\n",
       "      <td>0.0</td>\n",
       "      <td>0.0</td>\n",
       "      <td>0.0</td>\n",
       "      <td>0.0</td>\n",
       "      <td>0.0</td>\n",
       "      <td>0.0</td>\n",
       "      <td>0.0</td>\n",
       "    </tr>\n",
       "    <tr>\n",
       "      <th>4</th>\n",
       "      <td>0.0</td>\n",
       "      <td>0.0</td>\n",
       "      <td>0.0</td>\n",
       "      <td>0.0</td>\n",
       "      <td>0.0</td>\n",
       "      <td>0.0</td>\n",
       "      <td>0.0</td>\n",
       "      <td>0.0</td>\n",
       "      <td>0.0</td>\n",
       "      <td>0.0</td>\n",
       "      <td>...</td>\n",
       "      <td>0.0</td>\n",
       "      <td>0.0</td>\n",
       "      <td>0.0</td>\n",
       "      <td>0.0</td>\n",
       "      <td>0.0</td>\n",
       "      <td>0.0</td>\n",
       "      <td>0.0</td>\n",
       "      <td>0.0</td>\n",
       "      <td>0.0</td>\n",
       "      <td>0.0</td>\n",
       "    </tr>\n",
       "    <tr>\n",
       "      <th>...</th>\n",
       "      <td>...</td>\n",
       "      <td>...</td>\n",
       "      <td>...</td>\n",
       "      <td>...</td>\n",
       "      <td>...</td>\n",
       "      <td>...</td>\n",
       "      <td>...</td>\n",
       "      <td>...</td>\n",
       "      <td>...</td>\n",
       "      <td>...</td>\n",
       "      <td>...</td>\n",
       "      <td>...</td>\n",
       "      <td>...</td>\n",
       "      <td>...</td>\n",
       "      <td>...</td>\n",
       "      <td>...</td>\n",
       "      <td>...</td>\n",
       "      <td>...</td>\n",
       "      <td>...</td>\n",
       "      <td>...</td>\n",
       "      <td>...</td>\n",
       "    </tr>\n",
       "    <tr>\n",
       "      <th>69995</th>\n",
       "      <td>0.0</td>\n",
       "      <td>0.0</td>\n",
       "      <td>0.0</td>\n",
       "      <td>0.0</td>\n",
       "      <td>0.0</td>\n",
       "      <td>0.0</td>\n",
       "      <td>0.0</td>\n",
       "      <td>0.0</td>\n",
       "      <td>0.0</td>\n",
       "      <td>0.0</td>\n",
       "      <td>...</td>\n",
       "      <td>0.0</td>\n",
       "      <td>0.0</td>\n",
       "      <td>0.0</td>\n",
       "      <td>0.0</td>\n",
       "      <td>0.0</td>\n",
       "      <td>0.0</td>\n",
       "      <td>0.0</td>\n",
       "      <td>0.0</td>\n",
       "      <td>0.0</td>\n",
       "      <td>0.0</td>\n",
       "    </tr>\n",
       "    <tr>\n",
       "      <th>69996</th>\n",
       "      <td>0.0</td>\n",
       "      <td>0.0</td>\n",
       "      <td>0.0</td>\n",
       "      <td>0.0</td>\n",
       "      <td>0.0</td>\n",
       "      <td>0.0</td>\n",
       "      <td>0.0</td>\n",
       "      <td>0.0</td>\n",
       "      <td>0.0</td>\n",
       "      <td>0.0</td>\n",
       "      <td>...</td>\n",
       "      <td>0.0</td>\n",
       "      <td>0.0</td>\n",
       "      <td>0.0</td>\n",
       "      <td>0.0</td>\n",
       "      <td>0.0</td>\n",
       "      <td>0.0</td>\n",
       "      <td>0.0</td>\n",
       "      <td>0.0</td>\n",
       "      <td>0.0</td>\n",
       "      <td>0.0</td>\n",
       "    </tr>\n",
       "    <tr>\n",
       "      <th>69997</th>\n",
       "      <td>0.0</td>\n",
       "      <td>0.0</td>\n",
       "      <td>0.0</td>\n",
       "      <td>0.0</td>\n",
       "      <td>0.0</td>\n",
       "      <td>0.0</td>\n",
       "      <td>0.0</td>\n",
       "      <td>0.0</td>\n",
       "      <td>0.0</td>\n",
       "      <td>0.0</td>\n",
       "      <td>...</td>\n",
       "      <td>0.0</td>\n",
       "      <td>0.0</td>\n",
       "      <td>0.0</td>\n",
       "      <td>0.0</td>\n",
       "      <td>0.0</td>\n",
       "      <td>0.0</td>\n",
       "      <td>0.0</td>\n",
       "      <td>0.0</td>\n",
       "      <td>0.0</td>\n",
       "      <td>0.0</td>\n",
       "    </tr>\n",
       "    <tr>\n",
       "      <th>69998</th>\n",
       "      <td>0.0</td>\n",
       "      <td>0.0</td>\n",
       "      <td>0.0</td>\n",
       "      <td>0.0</td>\n",
       "      <td>0.0</td>\n",
       "      <td>0.0</td>\n",
       "      <td>0.0</td>\n",
       "      <td>0.0</td>\n",
       "      <td>0.0</td>\n",
       "      <td>0.0</td>\n",
       "      <td>...</td>\n",
       "      <td>0.0</td>\n",
       "      <td>0.0</td>\n",
       "      <td>0.0</td>\n",
       "      <td>0.0</td>\n",
       "      <td>0.0</td>\n",
       "      <td>0.0</td>\n",
       "      <td>0.0</td>\n",
       "      <td>0.0</td>\n",
       "      <td>0.0</td>\n",
       "      <td>0.0</td>\n",
       "    </tr>\n",
       "    <tr>\n",
       "      <th>69999</th>\n",
       "      <td>0.0</td>\n",
       "      <td>0.0</td>\n",
       "      <td>0.0</td>\n",
       "      <td>0.0</td>\n",
       "      <td>0.0</td>\n",
       "      <td>0.0</td>\n",
       "      <td>0.0</td>\n",
       "      <td>0.0</td>\n",
       "      <td>0.0</td>\n",
       "      <td>0.0</td>\n",
       "      <td>...</td>\n",
       "      <td>0.0</td>\n",
       "      <td>0.0</td>\n",
       "      <td>0.0</td>\n",
       "      <td>0.0</td>\n",
       "      <td>0.0</td>\n",
       "      <td>0.0</td>\n",
       "      <td>0.0</td>\n",
       "      <td>0.0</td>\n",
       "      <td>0.0</td>\n",
       "      <td>0.0</td>\n",
       "    </tr>\n",
       "  </tbody>\n",
       "</table>\n",
       "<p>70000 rows × 784 columns</p>\n",
       "</div>"
      ],
      "text/plain": [
       "       0    1    2    3    4    5    6    7    8    9    ...  774  775  776  \\\n",
       "0      0.0  0.0  0.0  0.0  0.0  0.0  0.0  0.0  0.0  0.0  ...  0.0  0.0  0.0   \n",
       "1      0.0  0.0  0.0  0.0  0.0  0.0  0.0  0.0  0.0  0.0  ...  0.0  0.0  0.0   \n",
       "2      0.0  0.0  0.0  0.0  0.0  0.0  0.0  0.0  0.0  0.0  ...  0.0  0.0  0.0   \n",
       "3      0.0  0.0  0.0  0.0  0.0  0.0  0.0  0.0  0.0  0.0  ...  0.0  0.0  0.0   \n",
       "4      0.0  0.0  0.0  0.0  0.0  0.0  0.0  0.0  0.0  0.0  ...  0.0  0.0  0.0   \n",
       "...    ...  ...  ...  ...  ...  ...  ...  ...  ...  ...  ...  ...  ...  ...   \n",
       "69995  0.0  0.0  0.0  0.0  0.0  0.0  0.0  0.0  0.0  0.0  ...  0.0  0.0  0.0   \n",
       "69996  0.0  0.0  0.0  0.0  0.0  0.0  0.0  0.0  0.0  0.0  ...  0.0  0.0  0.0   \n",
       "69997  0.0  0.0  0.0  0.0  0.0  0.0  0.0  0.0  0.0  0.0  ...  0.0  0.0  0.0   \n",
       "69998  0.0  0.0  0.0  0.0  0.0  0.0  0.0  0.0  0.0  0.0  ...  0.0  0.0  0.0   \n",
       "69999  0.0  0.0  0.0  0.0  0.0  0.0  0.0  0.0  0.0  0.0  ...  0.0  0.0  0.0   \n",
       "\n",
       "       777  778  779  780  781  782  783  \n",
       "0      0.0  0.0  0.0  0.0  0.0  0.0  0.0  \n",
       "1      0.0  0.0  0.0  0.0  0.0  0.0  0.0  \n",
       "2      0.0  0.0  0.0  0.0  0.0  0.0  0.0  \n",
       "3      0.0  0.0  0.0  0.0  0.0  0.0  0.0  \n",
       "4      0.0  0.0  0.0  0.0  0.0  0.0  0.0  \n",
       "...    ...  ...  ...  ...  ...  ...  ...  \n",
       "69995  0.0  0.0  0.0  0.0  0.0  0.0  0.0  \n",
       "69996  0.0  0.0  0.0  0.0  0.0  0.0  0.0  \n",
       "69997  0.0  0.0  0.0  0.0  0.0  0.0  0.0  \n",
       "69998  0.0  0.0  0.0  0.0  0.0  0.0  0.0  \n",
       "69999  0.0  0.0  0.0  0.0  0.0  0.0  0.0  \n",
       "\n",
       "[70000 rows x 784 columns]"
      ]
     },
     "execution_count": 11,
     "metadata": {},
     "output_type": "execute_result"
    }
   ],
   "source": [
    "# Conviertiendo el conjunto de datos en un DataFrame de Pandas\n",
    "import pandas as pd\n",
    "\n",
    "df = pd.DataFrame(mnist.data)\n",
    "df"
   ]
  },
  {
   "cell_type": "markdown",
   "metadata": {},
   "source": [
    "## 2. Visualización del conjunto de datos"
   ]
  },
  {
   "cell_type": "code",
   "execution_count": 15,
   "metadata": {},
   "outputs": [
    {
     "data": {
      "image/png": "[encoded data removed]",
      "text/plain": [
       "<Figure size 2000x400 with 8 Axes>"
      ]
     },
     "metadata": {},
     "output_type": "display_data"
    }
   ],
   "source": [
    "import numpy as np\n",
    "import matplotlib.pyplot as plt\n",
    "\n",
    "plt.figure(figsize=(20, 4))\n",
    "\n",
    "for index, digit in zip(range(1, 9), mnist.data[:8]):\n",
    "    plt.subplot(1, 8, index)\n",
    "    plt.imshow(np.reshape(digit, (28,28)), cmap=plt.cm.gray)\n",
    "    plt.title('Ejemplo: ' + str(index))\n",
    "plt.show()"
   ]
  },
  {
   "cell_type": "markdown",
   "metadata": {},
   "source": [
    "## 3. División del conjunto de datos"
   ]
  },
  {
   "cell_type": "code",
   "execution_count": 24,
   "metadata": {},
   "outputs": [],
   "source": [
    "from sklearn.model_selection import train_test_split\n",
    "\n",
    "X_train, X_test, y_train, y_test = train_test_split(mnist.data, mnist.target, test_size=0.15) #porcentaje de pruebas"
   ]
  },
  {
   "cell_type": "code",
   "execution_count": 26,
   "metadata": {},
   "outputs": [
    {
     "name": "stdout",
     "output_type": "stream",
     "text": [
      "59500\n",
      "10500\n"
     ]
    }
   ],
   "source": [
    "print(len(X_train))\n",
    "print(len(X_test))"
   ]
  },
  {
   "cell_type": "markdown",
   "metadata": {},
   "source": [
    "## 4. Entrenamiento del algoritmo"
   ]
  },
  {
   "cell_type": "code",
   "execution_count": 29,
   "metadata": {},
   "outputs": [
    {
     "name": "stderr",
     "output_type": "stream",
     "text": [
      "E:\\FRANCO\\Anaconda\\Lib\\site-packages\\sklearn\\neural_network\\_multilayer_perceptron.py:686: ConvergenceWarning: Stochastic Optimizer: Maximum iterations (200) reached and the optimization hasn't converged yet.\n",
      "  warnings.warn(\n"
     ]
    },
    {
     "data": {
      "text/html": [
       "<style>#sk-container-id-3 {color: black;background-color: white;}#sk-container-id-3 pre{padding: 0;}#sk-container-id-3 div.sk-toggleable {background-color: white;}#sk-container-id-3 label.sk-toggleable__label {cursor: pointer;display: block;width: 100%;margin-bottom: 0;padding: 0.3em;box-sizing: border-box;text-align: center;}#sk-container-id-3 label.sk-toggleable__label-arrow:before {content: \"▸\";float: left;margin-right: 0.25em;color: #696969;}#sk-container-id-3 label.sk-toggleable__label-arrow:hover:before {color: black;}#sk-container-id-3 div.sk-estimator:hover label.sk-toggleable__label-arrow:before {color: black;}#sk-container-id-3 div.sk-toggleable__content {max-height: 0;max-width: 0;overflow: hidden;text-align: left;background-color: #f0f8ff;}#sk-container-id-3 div.sk-toggleable__content pre {margin: 0.2em;color: black;border-radius: 0.25em;background-color: #f0f8ff;}#sk-container-id-3 input.sk-toggleable__control:checked~div.sk-toggleable__content {max-height: 200px;max-width: 100%;overflow: auto;}#sk-container-id-3 input.sk-toggleable__control:checked~label.sk-toggleable__label-arrow:before {content: \"▾\";}#sk-container-id-3 div.sk-estimator input.sk-toggleable__control:checked~label.sk-toggleable__label {background-color: #d4ebff;}#sk-container-id-3 div.sk-label input.sk-toggleable__control:checked~label.sk-toggleable__label {background-color: #d4ebff;}#sk-container-id-3 input.sk-hidden--visually {border: 0;clip: rect(1px 1px 1px 1px);clip: rect(1px, 1px, 1px, 1px);height: 1px;margin: -1px;overflow: hidden;padding: 0;position: absolute;width: 1px;}#sk-container-id-3 div.sk-estimator {font-family: monospace;background-color: #f0f8ff;border: 1px dotted black;border-radius: 0.25em;box-sizing: border-box;margin-bottom: 0.5em;}#sk-container-id-3 div.sk-estimator:hover {background-color: #d4ebff;}#sk-container-id-3 div.sk-parallel-item::after {content: \"\";width: 100%;border-bottom: 1px solid gray;flex-grow: 1;}#sk-container-id-3 div.sk-label:hover label.sk-toggleable__label {background-color: #d4ebff;}#sk-container-id-3 div.sk-serial::before {content: \"\";position: absolute;border-left: 1px solid gray;box-sizing: border-box;top: 0;bottom: 0;left: 50%;z-index: 0;}#sk-container-id-3 div.sk-serial {display: flex;flex-direction: column;align-items: center;background-color: white;padding-right: 0.2em;padding-left: 0.2em;position: relative;}#sk-container-id-3 div.sk-item {position: relative;z-index: 1;}#sk-container-id-3 div.sk-parallel {display: flex;align-items: stretch;justify-content: center;background-color: white;position: relative;}#sk-container-id-3 div.sk-item::before, #sk-container-id-3 div.sk-parallel-item::before {content: \"\";position: absolute;border-left: 1px solid gray;box-sizing: border-box;top: 0;bottom: 0;left: 50%;z-index: -1;}#sk-container-id-3 div.sk-parallel-item {display: flex;flex-direction: column;z-index: 1;position: relative;background-color: white;}#sk-container-id-3 div.sk-parallel-item:first-child::after {align-self: flex-end;width: 50%;}#sk-container-id-3 div.sk-parallel-item:last-child::after {align-self: flex-start;width: 50%;}#sk-container-id-3 div.sk-parallel-item:only-child::after {width: 0;}#sk-container-id-3 div.sk-dashed-wrapped {border: 1px dashed gray;margin: 0 0.4em 0.5em 0.4em;box-sizing: border-box;padding-bottom: 0.4em;background-color: white;}#sk-container-id-3 div.sk-label label {font-family: monospace;font-weight: bold;display: inline-block;line-height: 1.2em;}#sk-container-id-3 div.sk-label-container {text-align: center;}#sk-container-id-3 div.sk-container {/* jupyter's `normalize.less` sets `[hidden] { display: none; }` but bootstrap.min.css set `[hidden] { display: none !important; }` so we also need the `!important` here to be able to override the default hidden behavior on the sphinx rendered scikit-learn.org. See: https://github.com/scikit-learn/scikit-learn/issues/21755 */display: inline-block !important;position: relative;}#sk-container-id-3 div.sk-text-repr-fallback {display: none;}</style><div id=\"sk-container-id-3\" class=\"sk-top-container\"><div class=\"sk-text-repr-fallback\"><pre>MLPClassifier(activation=&#x27;logistic&#x27;, hidden_layer_sizes=(50,), solver=&#x27;sgd&#x27;)</pre><b>In a Jupyter environment, please rerun this cell to show the HTML representation or trust the notebook. <br />On GitHub, the HTML representation is unable to render, please try loading this page with nbviewer.org.</b></div><div class=\"sk-container\" hidden><div class=\"sk-item\"><div class=\"sk-estimator sk-toggleable\"><input class=\"sk-toggleable__control sk-hidden--visually\" id=\"sk-estimator-id-3\" type=\"checkbox\" checked><label for=\"sk-estimator-id-3\" class=\"sk-toggleable__label sk-toggleable__label-arrow\">MLPClassifier</label><div class=\"sk-toggleable__content\"><pre>MLPClassifier(activation=&#x27;logistic&#x27;, hidden_layer_sizes=(50,), solver=&#x27;sgd&#x27;)</pre></div></div></div></div></div>"
      ],
      "text/plain": [
       "MLPClassifier(activation='logistic', hidden_layer_sizes=(50,), solver='sgd')"
      ]
     },
     "execution_count": 29,
     "metadata": {},
     "output_type": "execute_result"
    }
   ],
   "source": [
    "from sklearn.neural_network import MLPClassifier\n",
    "\n",
    "#uso 50 neuronas en 1 sola hidden layer. Activation='logistic' es la funcion sigmoide como funcion de activacion\n",
    "#solver='sdg' es una variacion del Gradient Descent como funcion de optimizacion(stocastic Gradient Descent)\n",
    "\n",
    "clf = MLPClassifier(hidden_layer_sizes=(50,), activation='logistic', solver='sgd')\n",
    "clf.fit(X_train, y_train)"
   ]
  },
  {
   "cell_type": "code",
   "execution_count": 37,
   "metadata": {},
   "outputs": [
    {
     "data": {
      "text/plain": [
       "3"
      ]
     },
     "execution_count": 37,
     "metadata": {},
     "output_type": "execute_result"
    }
   ],
   "source": [
    "# Número de capas del perceptrón multicapa\n",
    "clf.n_layers_\n",
    "#3 capas: input, hidden_layer1, output"
   ]
  },
  {
   "cell_type": "code",
   "execution_count": 35,
   "metadata": {},
   "outputs": [
    {
     "data": {
      "text/plain": [
       "10"
      ]
     },
     "execution_count": 35,
     "metadata": {},
     "output_type": "execute_result"
    }
   ],
   "source": [
    "# Número de outputs del perceptrón multicapa\n",
    "clf.n_outputs_\n",
    "#tengo 10 salidas por que son los posibles numeros (del 0 al 9)"
   ]
  },
  {
   "cell_type": "code",
   "execution_count": null,
   "metadata": {},
   "outputs": [],
   "source": [
    "784 * 10 + 10"
   ]
  },
  {
   "cell_type": "code",
   "execution_count": 39,
   "metadata": {},
   "outputs": [
    {
     "data": {
      "text/plain": [
       "(784, 50)"
      ]
     },
     "execution_count": 39,
     "metadata": {},
     "output_type": "execute_result"
    }
   ],
   "source": [
    "# Número de parámetros que forman el modelo\n",
    "clf.coefs_[0].shape"
   ]
  },
  {
   "cell_type": "code",
   "execution_count": 47,
   "metadata": {},
   "outputs": [
    {
     "data": {
      "text/plain": [
       "array([[-4.21629322e-01,  7.91635787e-01,  4.34047508e-01,\n",
       "        -1.51313269e-01,  7.36428046e-01, -4.66996096e-02,\n",
       "         3.65901774e-01, -4.88082823e-01, -1.00753469e+00,\n",
       "         2.85651827e-01],\n",
       "       [ 7.90942269e-01, -4.84700412e-01,  1.02871032e+00,\n",
       "        -5.55975739e-01,  2.67508705e-01, -4.15859418e-01,\n",
       "         3.22734437e-01, -5.01204009e-01, -8.46697896e-01,\n",
       "         1.47187994e-01],\n",
       "       [ 4.00489897e-01,  5.58246806e-01, -1.19016198e-01,\n",
       "         1.93348168e-01,  4.17036146e-01,  5.93884371e-01,\n",
       "         3.13657003e-01, -4.97808673e-01, -4.75385819e-01,\n",
       "        -1.10119553e+00],\n",
       "       [ 5.78700841e-01, -7.21508835e-01, -8.93380787e-01,\n",
       "        -3.46619564e-01,  1.73212238e-01, -4.79143527e-02,\n",
       "         6.67809612e-01,  5.57926324e-01, -1.20760505e-02,\n",
       "         1.80958760e-01],\n",
       "       [ 2.46409736e-01,  6.77994818e-02, -2.42980470e-01,\n",
       "        -7.20719899e-01,  3.99646353e-02,  1.80741760e-01,\n",
       "         6.04439184e-01, -5.15254555e-01, -5.08033286e-01,\n",
       "         5.15084121e-01],\n",
       "       [-1.84307359e-01, -4.13050261e-01,  1.11639721e+00,\n",
       "        -3.75337408e-01,  3.12279820e-01, -1.12449590e-03,\n",
       "         5.48796479e-01, -6.19725197e-01,  2.67020904e-02,\n",
       "        -5.19337992e-01],\n",
       "       [-3.72576752e-01,  4.91867400e-01, -9.21664429e-01,\n",
       "         5.01510522e-01, -3.28052251e-01,  8.36540610e-01,\n",
       "         2.34695894e-01, -5.60841316e-01,  5.14495739e-01,\n",
       "        -1.16500870e-01],\n",
       "       [-6.08821207e-01,  2.76598815e-01,  3.35448854e-01,\n",
       "         3.85713816e-01, -9.12380393e-01,  9.05179066e-01,\n",
       "        -3.18777463e-01, -9.58486791e-01,  3.29510267e-01,\n",
       "         8.42295401e-01],\n",
       "       [-4.36030501e-01, -2.17169696e-01,  1.08238763e+00,\n",
       "         1.13653726e+00, -2.75070999e-01, -5.29728045e-01,\n",
       "        -7.37679446e-01,  8.56965453e-01, -5.68718325e-01,\n",
       "        -4.71997748e-01],\n",
       "       [-4.59508973e-02,  3.98636392e-02,  6.30610389e-03,\n",
       "        -1.56410208e-02, -1.37863060e-01,  9.25558643e-02,\n",
       "         6.54111100e-02,  9.66558774e-02, -6.41494978e-03,\n",
       "        -1.84817790e-01],\n",
       "       [-3.58821550e-01, -2.15275461e-01, -2.59771066e-01,\n",
       "        -2.92608792e-01,  8.17469965e-01, -4.52439921e-01,\n",
       "         9.50297990e-02,  9.57349707e-01, -8.83471835e-01,\n",
       "         6.43227875e-01],\n",
       "       [ 6.19468728e-01, -4.57624457e-01,  5.51294345e-01,\n",
       "         6.31387593e-01, -1.28699213e-01, -3.11786519e-01,\n",
       "         7.07708123e-01, -2.28256242e-01, -9.59980798e-01,\n",
       "        -8.48482182e-02],\n",
       "       [-3.77745325e-01,  7.02064632e-01,  1.44761497e-01,\n",
       "         6.58342583e-01, -5.24545052e-01, -1.72406664e-01,\n",
       "        -5.35152194e-01, -6.46033432e-02,  4.30838975e-01,\n",
       "        -4.25398495e-01],\n",
       "       [ 4.83064860e-01,  4.62273820e-01,  5.23657374e-01,\n",
       "        -9.88432780e-01, -8.16867691e-01, -7.54358887e-01,\n",
       "         4.16637149e-01,  4.82441896e-01,  9.87028817e-01,\n",
       "        -8.58512152e-01],\n",
       "       [-2.14099108e-01, -1.54561203e-01, -2.58378902e-01,\n",
       "         3.50505774e-02, -8.09927498e-01,  3.46063468e-02,\n",
       "         7.34446516e-01,  1.06205900e+00, -4.03024676e-01,\n",
       "        -2.67221808e-01],\n",
       "       [-6.18616710e-01,  5.79830234e-01,  7.85779595e-01,\n",
       "        -5.69964132e-01,  2.85005674e-01,  4.78980177e-01,\n",
       "         8.13491466e-02, -2.87317491e-01,  2.41971275e-01,\n",
       "        -6.51689394e-01],\n",
       "       [-5.74037884e-01,  3.93647449e-01,  6.84097338e-01,\n",
       "        -3.65332646e-01,  5.01330128e-01, -1.03484347e+00,\n",
       "        -6.71666848e-01,  2.29083337e-01,  5.09214919e-01,\n",
       "         1.72958079e-01],\n",
       "       [-3.75031773e-01,  5.15712328e-01,  6.81660151e-01,\n",
       "        -3.13921461e-01, -6.63848242e-01,  9.32438906e-02,\n",
       "         8.20484913e-01,  4.42025662e-01, -4.31105809e-01,\n",
       "        -6.52645426e-01],\n",
       "       [-1.02399925e-01, -3.90519213e-01,  6.70126713e-01,\n",
       "         7.85692430e-01, -1.69823907e-01, -4.35879522e-01,\n",
       "        -6.45971874e-01,  4.49226648e-01, -5.87169927e-01,\n",
       "         4.50548389e-01],\n",
       "       [ 3.93886860e-01, -4.79768128e-01,  5.35754446e-01,\n",
       "         7.89752385e-01, -8.52945512e-01, -3.69369766e-01,\n",
       "         7.66253155e-01, -8.77262534e-01,  7.34927893e-01,\n",
       "        -1.58571478e-01],\n",
       "       [-6.00792225e-01, -4.26062166e-01,  2.22938868e-01,\n",
       "         5.52683902e-01, -4.88463635e-01,  9.40249397e-01,\n",
       "        -3.11142705e-01,  5.39749487e-01, -2.40816262e-02,\n",
       "        -2.60021588e-01],\n",
       "       [ 8.47209700e-01, -2.08719507e-01, -4.50996183e-01,\n",
       "        -1.04137138e+00,  6.94457944e-01, -1.34912800e-02,\n",
       "        -5.03362258e-01,  1.56792425e-01, -5.99322223e-01,\n",
       "         5.97944645e-01],\n",
       "       [-3.45447974e-01,  6.97868526e-01, -4.84740019e-01,\n",
       "         9.20738669e-02,  5.65427663e-01, -3.17681253e-01,\n",
       "        -2.39176047e-01,  9.03027248e-01, -5.99710363e-01,\n",
       "        -4.64763482e-01],\n",
       "       [ 3.50164175e-01, -6.79857236e-01,  1.86483493e-01,\n",
       "         1.56101073e-01, -1.07825689e+00,  3.03731883e-01,\n",
       "        -4.28431982e-01,  1.74927329e-01,  5.82968010e-01,\n",
       "         8.06265235e-01],\n",
       "       [ 5.02110090e-01, -5.51080340e-02, -6.72038569e-01,\n",
       "        -2.39817221e-01, -6.10995667e-01,  8.49040266e-01,\n",
       "         5.79526108e-01,  3.70480228e-01, -7.48231374e-01,\n",
       "         7.73902704e-02],\n",
       "       [-9.39781585e-01,  5.06216095e-01, -4.89536993e-01,\n",
       "        -5.24927898e-01,  7.17165197e-01,  6.06782635e-01,\n",
       "        -2.40960318e-01,  4.95608392e-01, -4.48616605e-01,\n",
       "         4.52330680e-01],\n",
       "       [ 2.95562564e-01, -2.69554905e-01,  4.89991182e-01,\n",
       "         1.03546926e-01, -8.11134121e-01, -7.07872446e-02,\n",
       "        -1.03161436e+00, -8.76396435e-03,  3.05190138e-01,\n",
       "         9.30712015e-01],\n",
       "       [ 5.92748119e-01, -4.72347867e-01,  4.81925738e-01,\n",
       "        -1.57208353e-01,  4.02920846e-01, -1.18799416e+00,\n",
       "        -6.62462568e-01,  4.99606464e-01,  4.46430508e-01,\n",
       "         6.42830517e-02],\n",
       "       [ 2.56727368e-01,  7.55346587e-01, -8.75676481e-01,\n",
       "         3.85905841e-01, -2.99228559e-01,  3.32236758e-01,\n",
       "        -3.87328014e-01,  7.23234119e-01, -4.36986379e-01,\n",
       "        -3.95618521e-01],\n",
       "       [-7.25383669e-01, -3.47385548e-01,  8.95838214e-02,\n",
       "         8.70513693e-01,  4.40618523e-01, -4.21555316e-01,\n",
       "         1.47844751e-01,  3.95169002e-01, -7.01729164e-01,\n",
       "         5.75852909e-01],\n",
       "       [ 8.30930133e-01,  6.62282118e-01,  5.06135315e-01,\n",
       "         2.84649050e-01, -9.57163418e-01, -1.29106402e-01,\n",
       "        -8.44107106e-01,  6.35110876e-01, -4.73389505e-01,\n",
       "        -3.62573123e-01],\n",
       "       [ 4.13816087e-01,  7.39216526e-02,  5.03878705e-01,\n",
       "        -1.10987322e+00,  2.05239063e-01, -1.02832115e+00,\n",
       "         4.63064615e-01,  2.89101576e-01,  7.69509281e-01,\n",
       "        -5.92686958e-01],\n",
       "       [-6.20871461e-01,  8.58383090e-01, -7.18202224e-01,\n",
       "         7.07382834e-01,  4.21145680e-01,  6.47901467e-01,\n",
       "        -4.23069590e-01, -4.63339915e-01, -8.29346161e-01,\n",
       "         7.13372864e-01],\n",
       "       [ 3.23101620e-01,  2.46122387e-01, -8.30666670e-01,\n",
       "         3.63047948e-01,  2.19587925e-01,  6.15788499e-02,\n",
       "        -1.46346016e-01, -9.99923442e-01, -1.84358209e-01,\n",
       "         8.57378729e-01],\n",
       "       [-1.15381639e-01,  6.81271767e-01, -2.23885141e-01,\n",
       "         6.86006096e-01, -7.04231556e-01, -5.58310244e-01,\n",
       "         7.65791704e-01, -3.73159172e-01,  7.26595012e-01,\n",
       "        -8.50602688e-01],\n",
       "       [-5.87419869e-01, -3.65378865e-01,  6.21877151e-01,\n",
       "         6.50759570e-01,  7.34173330e-01, -3.66965401e-01,\n",
       "        -5.92075246e-01, -2.13125446e-01, -3.02629744e-01,\n",
       "         7.55145958e-02],\n",
       "       [-4.53374100e-01, -2.42718810e-01, -1.03863558e-01,\n",
       "        -3.42479023e-01,  7.06602486e-01,  7.09480855e-01,\n",
       "         3.27506363e-01,  3.80536111e-01, -3.14597440e-01,\n",
       "        -6.67566667e-01],\n",
       "       [-6.15403986e-01, -1.42081292e-01, -5.19972002e-01,\n",
       "        -5.13656054e-01,  3.26632956e-01, -5.57148420e-01,\n",
       "         4.50009732e-01, -1.11627520e-01,  1.05975850e+00,\n",
       "         4.15383850e-01],\n",
       "       [ 1.50109164e-01, -5.97163855e-01, -4.58539629e-01,\n",
       "         3.89412459e-01,  4.56179645e-01, -1.48531903e-01,\n",
       "        -9.28642831e-01,  5.26665865e-01,  4.84471345e-01,\n",
       "         2.71441528e-01],\n",
       "       [-8.06844499e-01, -6.68324780e-01, -6.06851781e-01,\n",
       "         5.50288210e-01,  2.61669973e-01, -2.69700733e-01,\n",
       "         5.54141647e-01, -2.89289805e-01,  8.66807183e-01,\n",
       "         4.80721879e-01],\n",
       "       [-9.14437805e-01, -4.28133100e-01, -2.01963601e-02,\n",
       "        -4.36362951e-02, -9.21961491e-02,  1.09883565e+00,\n",
       "        -6.14733865e-01,  3.18539555e-03,  6.00645693e-01,\n",
       "         3.63832784e-01],\n",
       "       [-5.74682367e-01,  6.01935701e-01,  6.34777395e-01,\n",
       "        -3.05567064e-01, -8.04906577e-01, -3.90364296e-01,\n",
       "         3.49170300e-01,  5.14373902e-01, -4.64095086e-01,\n",
       "         2.26417127e-01],\n",
       "       [ 1.13330645e-01, -9.00667407e-01,  6.03624665e-02,\n",
       "         2.06994919e-01,  4.51595504e-01,  6.82166061e-01,\n",
       "         4.34539692e-01, -1.55398095e-01,  2.85488727e-01,\n",
       "        -7.23767330e-01],\n",
       "       [ 1.33067893e-01,  3.58550495e-01,  5.88544508e-02,\n",
       "         4.92927858e-03,  3.26713179e-01,  7.98632610e-01,\n",
       "        -4.72595193e-01, -7.97945173e-01,  4.06898576e-01,\n",
       "        -8.04855612e-01],\n",
       "       [ 3.23187921e-01, -4.16680267e-01,  1.44977359e-01,\n",
       "         4.88605958e-01,  3.65405657e-01,  8.50195121e-01,\n",
       "        -2.72477980e-02,  1.02073967e-01, -4.77197170e-01,\n",
       "        -1.04951538e+00],\n",
       "       [-4.38920371e-01,  3.48644301e-01, -3.70938372e-01,\n",
       "         4.18073757e-01,  1.66844280e-01, -1.01260983e+00,\n",
       "        -4.37074752e-01,  6.62524603e-01, -3.69764070e-01,\n",
       "         1.66073195e-01],\n",
       "       [ 2.27682340e-01, -6.33757710e-01, -4.01515425e-01,\n",
       "         2.25559202e-01,  7.81620473e-02,  3.85696586e-01,\n",
       "        -7.86989733e-01,  5.67197880e-01,  3.45037467e-01,\n",
       "        -2.83231613e-01],\n",
       "       [ 7.46135105e-01, -8.84040073e-02, -1.32057586e-01,\n",
       "        -8.37571475e-01, -1.96454661e-01,  1.24232354e+00,\n",
       "         1.31883396e-01,  2.17726738e-02, -6.87846182e-01,\n",
       "         9.76600990e-02],\n",
       "       [ 4.51949399e-01,  3.99094994e-01, -2.92445701e-01,\n",
       "         4.19395783e-01, -5.99308653e-01,  3.27867403e-01,\n",
       "        -4.65978347e-01,  5.78854344e-03, -5.23352847e-01,\n",
       "         8.26265263e-01],\n",
       "       [ 2.07449891e-01, -6.41481851e-01, -6.42844653e-01,\n",
       "        -9.04520717e-01,  7.35364080e-02,  6.71381344e-01,\n",
       "         3.56113963e-01, -5.34585280e-01,  3.35827933e-01,\n",
       "         5.24796162e-01]])"
      ]
     },
     "execution_count": 47,
     "metadata": {},
     "output_type": "execute_result"
    }
   ],
   "source": [
    "# Dimensiones de la primera capa (hidden layer)\n",
    "clf.coefs_[1]"
   ]
  },
  {
   "cell_type": "code",
   "execution_count": 43,
   "metadata": {},
   "outputs": [
    {
     "data": {
      "text/plain": [
       "(50, 10)"
      ]
     },
     "execution_count": 43,
     "metadata": {},
     "output_type": "execute_result"
    }
   ],
   "source": [
    "# Dimensiones de la segunda capa (output layer)\n",
    "clf.coefs_[1].shape"
   ]
  },
  {
   "cell_type": "code",
   "execution_count": 49,
   "metadata": {},
   "outputs": [
    {
     "data": {
      "text/plain": [
       "(50,)"
      ]
     },
     "execution_count": 49,
     "metadata": {},
     "output_type": "execute_result"
    }
   ],
   "source": [
    "# Parametros bias/intercept que forman parte de cada capa de la red neuronal\n",
    "clf.intercepts_[0].shape"
   ]
  },
  {
   "cell_type": "markdown",
   "metadata": {},
   "source": [
    "## 5. Predicción con el conjunto de pruebas"
   ]
  },
  {
   "cell_type": "code",
   "execution_count": 51,
   "metadata": {},
   "outputs": [],
   "source": [
    "# Realizamos la predicción con el conjunto de datos de prueba\n",
    "y_pred = clf.predict(X_test)"
   ]
  },
  {
   "cell_type": "code",
   "execution_count": 56,
   "metadata": {},
   "outputs": [
    {
     "data": {
      "text/plain": [
       "0.9502394098394202"
      ]
     },
     "execution_count": 56,
     "metadata": {},
     "output_type": "execute_result"
    }
   ],
   "source": [
    "# Mostramos el f1_score resultante de la clasificación\n",
    "from sklearn.metrics import f1_score\n",
    "\n",
    "f1_score(y_test, y_pred, average=\"weighted\")\n",
    "\n",
    "#Se puede observar que ahora tiene un porcentaje de acierto del 95%"
   ]
  },
  {
   "cell_type": "markdown",
   "metadata": {},
   "source": [
    "### Si aumento el numero de neuronas de la hidden layer sube el porcentaje"
   ]
  },
  {
   "cell_type": "markdown",
   "metadata": {},
   "source": [
    "## 6. Mostrando las imagenes mal clasificadas"
   ]
  },
  {
   "cell_type": "code",
   "execution_count": 58,
   "metadata": {},
   "outputs": [],
   "source": [
    "import numpy as np\n",
    "import matplotlib.pyplot as plt\n",
    "\n",
    "index = 0\n",
    "index_errors = []\n",
    "\n",
    "for label, predict in zip(y_test, y_pred):\n",
    "    if label != predict:\n",
    "        index_errors.append(index)\n",
    "    index += 1"
   ]
  },
  {
   "cell_type": "code",
   "execution_count": 60,
   "metadata": {},
   "outputs": [
    {
     "data": {
      "image/png": "[encoded data removed]",
      "text/plain": [
       "<Figure size 2000x400 with 8 Axes>"
      ]
     },
     "metadata": {},
     "output_type": "display_data"
    }
   ],
   "source": [
    "import numpy as np\n",
    "import matplotlib.pyplot as plt\n",
    "\n",
    "plt.figure(figsize=(20, 4))\n",
    "\n",
    "for i, img_index in zip(range(1, 9), index_errors[8:16]):\n",
    "    plt.subplot(1, 8, i)\n",
    "    plt.imshow(np.reshape(X_test[img_index], (28,28)), cmap=plt.cm.gray)\n",
    "    plt.title('Orig:' + str(y_test[img_index]) + ' Pred:' + str(y_pred[img_index]))\n",
    "plt.show()"
   ]
  },
  {
   "cell_type": "code",
   "execution_count": null,
   "metadata": {},
   "outputs": [],
   "source": []
  }
 ],
 "metadata": {
  "kernelspec": {
   "display_name": "Python 3 (ipykernel)",
   "language": "python",
   "name": "python3"
  },
  "language_info": {
   "codemirror_mode": {
    "name": "ipython",
    "version": 3
   },
   "file_extension": ".py",
   "mimetype": "text/x-python",
   "name": "python",
   "nbconvert_exporter": "python",
   "pygments_lexer": "ipython3",
   "version": "3.11.7"
  }
 },
 "nbformat": 4,
 "nbformat_minor": 4
}
